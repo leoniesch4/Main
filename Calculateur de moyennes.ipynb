{
 "cells": [
  {
   "cell_type": "markdown",
   "metadata": {},
   "source": [
    "# Calculateur de moyennes\n"
   ]
  },
  {
   "cell_type": "markdown",
   "metadata": {},
   "source": [
    "Voici un programme permettant de calculer les moyennes générales   \n",
    "*c'est n'est surement pas le code le plus optimal mais il fait le job* :) "
   ]
  },
  {
   "cell_type": "markdown",
   "metadata": {},
   "source": [
    "À noter :  \n",
    "      Il faut écrire les notes avec un \".\" pour spécifier la virgule    \n",
    "      S'il y a une /plusieurs matière.s dans le.squelle.s un.e élève n'est pas noté ecrivez \"NN\" à la place de la note     \n",
    "      Si vous souhaitez regarder une note dans une matière x arretez le programme en répondant 0 à la question puis executez le dernier bloc en remplaçant \"Francais\" par la matière x que vous souhaitez   \n",
    "      Pour plus de clarité j'ai indiqué à coté de certaines lignes ce que le programme faisait :)   \n"
   ]
  },
  {
   "cell_type": "code",
   "execution_count": null,
   "metadata": {},
   "outputs": [],
   "source": [
    "i=1\n",
    "while i==1:\n",
    "    #affectation des notes de l'élève\n",
    "    prénom= input(\"Entrez le prénom ou la classe de l'élève\")\n",
    "    francais= input(\"Moyenne en francais ?\")\n",
    "    maths= input(\"Moyenne en maths ?\")\n",
    "    anglais= input(\"Moyenne en anglais ?\")\n",
    "    histoire= input(\"Moyenne en histoire?\")\n",
    "    LV2= input(\"Moyenne en LV2?\")\n",
    "    SVT=input(\"Moyenne en SVT?\")\n",
    "    physique= input(\"Moyenne en physique?\")\n",
    "    techno= input(\"Moyenne en techno?\")\n",
    "    art=input(\"Moyenne en art pla?\")\n",
    "    musique= input(\"Moyenne en musique?\")\n",
    "    EPS= input(\"Moyenne en EPS?\")\n",
    "    moyennes= {\"Francais\":francais, \"Maths\": maths, \"Anglais\": anglais, \"Histoire\":histoire, \"LV2\": LV2, \"SVT\":SVT, \"Physique\": physique, \"Techno\": techno, \"Art\": art, \"Musique\": musique, \"EPS\": EPS} #les notes sont ajoutées à un dictionnnaire\n",
    "    d=0 ; n=0\n",
    "    for k in moyennes: #on parcourt le dictionnaire \n",
    "        if moyennes[k]!= \"NN\": #on verifie que l'élève est noté dans la matière \n",
    "            n=n+float(moyennes[k]) #calcul du numérateur\n",
    "            d=d+1 #calcul du dénominateur (on a fait attention à ne pas compter la.es matière.s dans le.squelle.s l'élève n'st pas noté)\n",
    "    m=n/d  #calcul de la moyenne\n",
    "    print(\"la moyenne générale de \"+ str(prénom) + \" est : \" + str(m))\n",
    "    i=int(input(\"Dites 1 si on continue 0 sinon\")) #permet de calculer les moyennes à la suite sans relancer le code\n",
    " "
   ]
  },
  {
   "cell_type": "code",
   "execution_count": null,
   "metadata": {},
   "outputs": [],
   "source": [
    "moyennes[\"Francais\"]"
   ]
  }
 ],
 "metadata": {
  "kernelspec": {
   "display_name": "Python 3",
   "language": "python",
   "name": "python3"
  },
  "language_info": {
   "codemirror_mode": {
    "name": "ipython",
    "version": 3
   },
   "file_extension": ".py",
   "mimetype": "text/x-python",
   "name": "python",
   "nbconvert_exporter": "python",
   "pygments_lexer": "ipython3",
   "version": "3.10.13"
  }
 },
 "nbformat": 4,
 "nbformat_minor": 2
}
